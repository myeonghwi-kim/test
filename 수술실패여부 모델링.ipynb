{
 "cells": [
  {
   "cell_type": "code",
   "execution_count": 1,
   "metadata": {},
   "outputs": [],
   "source": [
    "import pandas as pd\n",
    "import numpy as np\n",
    "import matplotlib.pyplot as plt\n",
    "import seaborn as sns\n",
    "from sklearn.metrics import accuracy_score\n",
    "from sklearn.metrics import precision_score\n",
    "from sklearn.metrics import recall_score\n",
    "from sklearn.metrics import f1_score\n",
    "from sklearn.metrics import roc_auc_score\n",
    "from sklearn.metrics import confusion_matrix\n",
    "import warnings\n",
    "warnings.filterwarnings('ignore')\n",
    "plt.rcParams['font.family'] = 'NanumGothic'\n",
    "plt.rcParams['axes.unicode_minus'] = False"
   ]
  },
  {
   "cell_type": "markdown",
   "metadata": {},
   "source": [
    "\n",
    " ![nn](머신러닝파이프라인.png)"
   ]
  },
  {
   "cell_type": "markdown",
   "metadata": {},
   "source": [
    "#### 우리는 Feature Engineering 까지 끝난 상황이고, Data validation과정에서 imbalanced data set이라 이걸 어떻게 처리할 수 있을까를 고민하는 거에요\n",
    "\n",
    "아래 과정은 정답이 아니라 제가 진행한 과정이에요\n",
    "다음과 같은 과정을 통해서 Model의 성능(F1-Score)을 최대한 올리기 위한 방법입니다.\n",
    "원래는 이렇게 해도 안나오면 위의 사진에서 Data analysis과정으로 돌아가야 해요\n",
    "\n",
    "### 모델 선정\n",
    " #### 1. model hyper parmeter\n",
    " #### 2. Data OverSampling\n",
    " #### 3. threshold set\n",
    " #### 4. cross validation\n",
    " #### 5. another model"
   ]
  },
  {
   "cell_type": "markdown",
   "metadata": {},
   "source": [
    "#### 1. model hyper parameter는 진행하지 않았습니다.\n",
    "직접 해보실때 GridSearch로 각 모델의 최적 파라미터 넣으시면 대량 1% ~ 5%까지 성능 올리실 수 있습니다."
   ]
  },
  {
   "cell_type": "markdown",
   "metadata": {},
   "source": [
    "### Data load"
   ]
  },
  {
   "cell_type": "code",
   "execution_count": 7,
   "metadata": {},
   "outputs": [],
   "source": [
    "\n",
    "df = pd.read_csv('/home/piai/빅데이터프로젝트/df_raw_new.csv')\n",
    "### unused data del\n",
    "df.drop(['환자ID', '수술일자','입원일자','퇴원일자'], axis=1, inplace=True)"
   ]
  },
  {
   "cell_type": "markdown",
   "metadata": {},
   "source": [
    "### Encoding\n",
    " - Categorical data :One-hot-Encoding\n",
    " - sklearn : func get_dummies"
   ]
  },
  {
   "cell_type": "code",
   "execution_count": 8,
   "metadata": {},
   "outputs": [],
   "source": [
    "### 더미화\n",
    "df_dummy = pd.get_dummies(df)\n",
    "df_y = df_dummy['수술실패여부']\n",
    "df_x = df_dummy.drop(columns='수술실패여부')"
   ]
  },
  {
   "cell_type": "markdown",
   "metadata": {},
   "source": [
    "### Standardization\n",
    " - scaler : MinMaxScaler\n",
    " - BinaryClassification : [0,1]"
   ]
  },
  {
   "cell_type": "code",
   "execution_count": 9,
   "metadata": {},
   "outputs": [],
   "source": [
    "### 표준화\n",
    "from sklearn.preprocessing import MinMaxScaler\n",
    "scaler = MinMaxScaler()\n",
    "df_scaled = scaler.fit_transform(df_x)\n",
    "df_scaled = pd.DataFrame(df_scaled)\n",
    "df_scaled.columns = df_x.columns"
   ]
  },
  {
   "cell_type": "markdown",
   "metadata": {},
   "source": [
    "### Split Data \n",
    " - Train : 0.7\n",
    " - Test : 0.3"
   ]
  },
  {
   "cell_type": "code",
   "execution_count": 10,
   "metadata": {},
   "outputs": [],
   "source": [
    "### train, test set divide\n",
    "from sklearn.model_selection import train_test_split\n",
    "df_train_x, df_test_x, df_train_y, df_test_y = train_test_split(df_x, df_y, test_size=0.3, random_state=1234, shuffle=True)"
   ]
  },
  {
   "cell_type": "markdown",
   "metadata": {},
   "source": [
    "### Data Shape\n",
    " - Origin data"
   ]
  },
  {
   "cell_type": "code",
   "execution_count": 11,
   "metadata": {},
   "outputs": [
    {
     "name": "stdout",
     "output_type": "stream",
     "text": [
      "SMOTE 적용 전 트레인 피처/레이블 데Cross Validation이터 세트:  (1292, 46) (1292,)\n",
      "SMOTE 적용 전 테스트 피처/레이블 데이터 세트:  (554, 46) (554,)\n",
      "SMOTE 적용 전 레이블 값 분포:\n",
      " 0    1215\n",
      "1      77\n",
      "Name: 수술실패여부, dtype: int64\n"
     ]
    }
   ],
   "source": [
    "print('SMOTE 적용 전 트레인 피처/레이블 데Cross Validation이터 세트: ', df_train_x.shape, df_train_y.shape)\n",
    "print('SMOTE 적용 전 테스트 피처/레이블 데이터 세트: ', df_test_x.shape, df_test_y.shape)\n",
    "print('SMOTE 적용 전 레이블 값 분포:\\n', pd.Series(df_train_y).value_counts())"
   ]
  },
  {
   "cell_type": "markdown",
   "metadata": {},
   "source": [
    "### Model Function \n",
    " - modeling() - model set\n",
    " - metrics() - evaluation metrics & confusion matrix"
   ]
  },
  {
   "cell_type": "code",
   "execution_count": 13,
   "metadata": {},
   "outputs": [],
   "source": [
    "def modeling(model,x_train,x_test,y_train,y_test):\n",
    "    model.fit(x_train,y_train)\n",
    "    pred = model.predict(x_test)\n",
    "    metrics(y_test,pred)\n",
    "    \n",
    "    \n",
    "def metrics(y_test,pred):\n",
    "    matrix = confusion_matrix(y_test,pred)\n",
    "    accuracy = accuracy_score(y_test,pred)\n",
    "    precision = precision_score(y_test,pred)\n",
    "    recall = recall_score(y_test,pred)\n",
    "    f1 = f1_score(y_test,pred)\n",
    "    roc_score = roc_auc_score(y_test,pred,average='macro')\n",
    "    print(matrix)\n",
    "    print('정확도 : {0:.4f}\\n정밀도 : {1:.4f}\\n재현율 : {2:.4f}'.format(accuracy,precision,recall))\n",
    "    print('f1-score : {0:.4f}\\nauc : {1:.4f}'.format(f1,roc_score))\n",
    "    return accuracy, precision, recall,f1"
   ]
  },
  {
   "cell_type": "markdown",
   "metadata": {},
   "source": [
    "### Model Compare : Origin Data\n",
    " - Linear Regression\n",
    " - Decision Tree\n",
    " - RandomForest\n",
    " - LightGBM\n",
    " - CatBoost\n",
    " - AdaBoost\n",
    " - Gradient Boost\n",
    " - XGBoost"
   ]
  },
  {
   "cell_type": "code",
   "execution_count": 14,
   "metadata": {
    "collapsed": true
   },
   "outputs": [
    {
     "name": "stdout",
     "output_type": "stream",
     "text": [
      "\n",
      "LR\n",
      "[[516   0]\n",
      " [ 38   0]]\n",
      "정확도 : 0.9314\n",
      "정밀도 : 0.0000\n",
      "재현율 : 0.0000\n",
      "f1-score : 0.0000\n",
      "auc : 0.5000\n",
      "Train F1_SCORE :  0.0\n",
      "\n",
      "DT\n",
      "[[515   1]\n",
      " [ 38   0]]\n",
      "정확도 : 0.9296\n",
      "정밀도 : 0.0000\n",
      "재현율 : 0.0000\n",
      "f1-score : 0.0000\n",
      "auc : 0.4990\n",
      "Train F1_SCORE :  0.15555555555555556\n",
      "\n",
      "RF\n",
      "[[516   0]\n",
      " [ 38   0]]\n",
      "정확도 : 0.9314\n",
      "정밀도 : 0.0000\n",
      "재현율 : 0.0000\n",
      "f1-score : 0.0000\n",
      "auc : 0.5000\n",
      "Train F1_SCORE :  0.9733333333333333\n",
      "\n",
      "LGB\n",
      "[[514   2]\n",
      " [ 23  15]]\n",
      "정확도 : 0.9549\n",
      "정밀도 : 0.8824\n",
      "재현율 : 0.3947\n",
      "f1-score : 0.5455\n",
      "auc : 0.6954\n",
      "Train F1_SCORE :  1.0\n",
      "\n",
      "catboost\n",
      "0:\tlearn: 0.3023372\ttotal: 51.1ms\tremaining: 460ms\n",
      "1:\tlearn: 0.2300172\ttotal: 57ms\tremaining: 228ms\n",
      "2:\tlearn: 0.1948305\ttotal: 66.3ms\tremaining: 155ms\n",
      "3:\tlearn: 0.1830292\ttotal: 74.6ms\tremaining: 112ms\n",
      "4:\tlearn: 0.1689879\ttotal: 81.3ms\tremaining: 81.3ms\n",
      "5:\tlearn: 0.1574596\ttotal: 83.8ms\tremaining: 55.9ms\n",
      "6:\tlearn: 0.1426843\ttotal: 86.5ms\tremaining: 37.1ms\n",
      "7:\tlearn: 0.1317481\ttotal: 90.4ms\tremaining: 22.6ms\n",
      "8:\tlearn: 0.1193250\ttotal: 94.7ms\tremaining: 10.5ms\n",
      "9:\tlearn: 0.1104119\ttotal: 98.7ms\tremaining: 0us\n",
      "[[516   0]\n",
      " [ 35   3]]\n",
      "정확도 : 0.9368\n",
      "정밀도 : 1.0000\n",
      "재현율 : 0.0789\n",
      "f1-score : 0.1463\n",
      "auc : 0.5395\n",
      "Train F1_SCORE :  0.5607476635514019\n",
      "\n",
      "ada\n",
      "[[513   3]\n",
      " [ 30   8]]\n",
      "정확도 : 0.9404\n",
      "정밀도 : 0.7273\n",
      "재현율 : 0.2105\n",
      "f1-score : 0.3265\n",
      "auc : 0.6024\n",
      "Train F1_SCORE :  0.5840707964601769\n",
      "\n",
      "GB\n",
      "[[515   1]\n",
      " [ 29   9]]\n",
      "정확도 : 0.9458\n",
      "정밀도 : 0.9000\n",
      "재현율 : 0.2368\n",
      "f1-score : 0.3750\n",
      "auc : 0.6175\n",
      "Train F1_SCORE :  0.9078014184397163\n",
      "\n",
      "XGB\n",
      "[17:31:15] WARNING: ../src/learner.cc:1095: Starting in XGBoost 1.3.0, the default evaluation metric used with the objective 'binary:logistic' was changed from 'error' to 'logloss'. Explicitly set eval_metric if you'd like to restore the old behavior.\n",
      "[[514   2]\n",
      " [ 26  12]]\n",
      "정확도 : 0.9495\n",
      "정밀도 : 0.8571\n",
      "재현율 : 0.3158\n",
      "f1-score : 0.4615\n",
      "auc : 0.6560\n",
      "Train F1_SCORE :  1.0\n"
     ]
    }
   ],
   "source": [
    "train_score=[];test_score=[]\n",
    "\n",
    "print('\\nLR')\n",
    "from sklearn.linear_model import LogisticRegression\n",
    "lr = LogisticRegression()\n",
    "result_lr = modeling(lr, df_train_x, df_test_x, df_train_y, df_test_y)\n",
    "train_score.append(lr.score(df_train_x,df_train_y))\n",
    "test_score.append(lr.score(df_test_x,df_test_y))\n",
    "print(\"Train F1_SCORE : \", f1_score(df_train_y, lr.predict(df_train_x)))\n",
    "\n",
    "print('\\nDT')\n",
    "from sklearn.tree import DecisionTreeClassifier\n",
    "DT = DecisionTreeClassifier(max_depth=1, min_samples_split=10, min_samples_leaf=6, random_state=1234)\n",
    "result_dt = modeling(DT, df_train_x, df_test_x, df_train_y, df_test_y)\n",
    "train_score.append(DT.score(df_train_x,df_train_y))\n",
    "test_score.append(DT.score(df_test_x,df_test_y))\n",
    "print(\"Train F1_SCORE : \", f1_score(df_train_y, DT.predict(df_train_x)))\n",
    "\n",
    "print('\\nRF')\n",
    "from sklearn.ensemble import RandomForestClassifier\n",
    "RF = RandomForestClassifier(max_depth=15, n_estimators=70, random_state=1234)\n",
    "RF.fit(df_train_x, df_train_y)\n",
    "result_rf= modeling(RF,  df_train_x, df_test_x, df_train_y, df_test_y)\n",
    "train_score.append(RF.score(df_train_x,df_train_y))\n",
    "test_score.append(RF.score(df_test_x,df_test_y))\n",
    "print(\"Train F1_SCORE : \", f1_score(df_train_y, RF.predict(df_train_x)))\n",
    "\n",
    "print('\\nLGB')\n",
    "from lightgbm import LGBMClassifier\n",
    "lgb = LGBMClassifier(n_estimators=1000,num_leaves=64,n_jobs=-1,boost_from_average=False, random_state=1234)\n",
    "result_lgb = modeling(lgb, df_train_x, df_test_x, df_train_y, df_test_y)\n",
    "train_score.append(lgb.score(df_train_x,df_train_y))\n",
    "test_score.append(lgb.score(df_test_x,df_test_y))\n",
    "print(\"Train F1_SCORE : \", f1_score(df_train_y, lgb.predict(df_train_x)))\n",
    "\n",
    "print('\\ncatboost')\n",
    "from catboost import CatBoostClassifier\n",
    "cat = CatBoostClassifier(iterations=10, learning_rate=0.5,random_state=1234 )\n",
    "result_cat = modeling(cat, df_train_x, df_test_x, df_train_y, df_test_y)\n",
    "train_score.append(cat.score(df_train_x,df_train_y))\n",
    "test_score.append(cat.score(df_test_x,df_test_y))\n",
    "print(\"Train F1_SCORE : \", f1_score(df_train_y, cat.predict(df_train_x)))\n",
    "\n",
    "print('\\nada')\n",
    "from sklearn.ensemble import AdaBoostClassifier\n",
    "ada = AdaBoostClassifier(n_estimators=50,learning_rate=1, random_state=1234)\n",
    "result_ada = modeling(ada, df_train_x, df_test_x, df_train_y, df_test_y)\n",
    "train_score.append(ada.score(df_train_x,df_train_y))\n",
    "test_score.append(ada.score(df_test_x,df_test_y))\n",
    "print(\"Train F1_SCORE : \", f1_score(df_train_y, ada.predict(df_train_x)))\n",
    "\n",
    "print('\\nGB')\n",
    "from sklearn.ensemble import GradientBoostingClassifier\n",
    "gra = GradientBoostingClassifier(random_state = 1234)\n",
    "result_gra = modeling(gra, df_train_x, df_test_x, df_train_y, df_test_y)\n",
    "train_score.append(gra.score(df_train_x,df_train_y))\n",
    "test_score.append(gra.score(df_test_x,df_test_y))\n",
    "print(\"Train F1_SCORE : \", f1_score(df_train_y, gra.predict(df_train_x)))\n",
    "\n",
    "print('\\nXGB')\n",
    "from xgboost import XGBClassifier\n",
    "xgb = XGBClassifier(n_estimators=500, learning_rate =0.1, random_state = 1234)\n",
    "result_xgb = modeling(xgb, df_train_x, df_test_x, df_train_y, df_test_y)\n",
    "train_score.append(xgb.score(df_train_x,df_train_y))\n",
    "test_score.append(xgb.score(df_test_x,df_test_y))\n",
    "print(\"Train F1_SCORE : \", f1_score(df_train_y, xgb.predict(df_train_x)))"
   ]
  },
  {
   "cell_type": "markdown",
   "metadata": {},
   "source": [
    "### oversampling  예시"
   ]
  },
  {
   "cell_type": "code",
   "execution_count": 16,
   "metadata": {},
   "outputs": [
    {
     "data": {
      "image/png": "[encoded data removed]",
      "text/plain": [
       "<Figure size 432x288 with 2 Axes>"
      ]
     },
     "metadata": {
      "needs_background": "light"
     },
     "output_type": "display_data"
    }
   ],
   "source": [
    "from imblearn.over_sampling import SMOTE\n",
    "import scipy as sp\n",
    "from sklearn.svm import SVC\n",
    "def classification_result2(X, y, title=\"\"):\n",
    "    plt.contour(X1, X2, rv1.pdf(np.dstack([X1, X2])), levels=[0.05], linestyles=\"dashed\")\n",
    "    plt.contour(X1, X2, rv2.pdf(np.dstack([X1, X2])), levels=[0.05], linestyles=\"dashed\")\n",
    "    model = SVC(kernel=\"linear\", C=1e4, random_state=0).fit(X, y)\n",
    "    Y = np.reshape(model.predict(np.array([X1.ravel(), X2.ravel()]).T), X1.shape)\n",
    "    plt.scatter(X[y == 0, 0], X[y == 0, 1], marker='x', label=\"0 클래스\")\n",
    "    plt.scatter(X[y == 1, 0], X[y == 1, 1], marker='o', label=\"1 클래스\")\n",
    "    plt.contour(X1, X2, Y, colors='k', levels=[0.5])\n",
    "    y_pred = model.predict(X)\n",
    "    plt.xlim(-4, 4)\n",
    "    plt.ylim(-3, 3)\n",
    "    plt.xlabel(\"x1\")\n",
    "    plt.ylabel(\"x2\")\n",
    "    plt.title(title)\n",
    "    return model\n",
    "n0 = 200; n1 = 20\n",
    "rv1 = sp.stats.multivariate_normal([-1, 0], [[1, 0], [0, 1]])\n",
    "rv2 = sp.stats.multivariate_normal([+1, 0], [[1, 0], [0, 1]])\n",
    "X0 = rv1.rvs(n0, random_state=0)\n",
    "X1 = rv2.rvs(n1, random_state=0)\n",
    "X_imb = np.vstack([X0, X1])\n",
    "y_imb = np.hstack([np.zeros(n0), np.ones(n1)])\n",
    "X_samp, y_samp = SMOTE(random_state=4).fit_resample(X_imb, y_imb)\n",
    "x1min = -4; x1max = 4\n",
    "x2min = -2; x2max = 2\n",
    "xx1 = np.linspace(x1min, x1max, 1000)\n",
    "xx2 = np.linspace(x2min, x2max, 1000)\n",
    "X1, X2 = np.meshgrid(xx1, xx2)\n",
    "\n",
    "\n",
    "plt.subplot(121)\n",
    "classification_result2(X_imb, y_imb)\n",
    "\n",
    "plt.subplot(122)\n",
    "model_samp = classification_result2(X_samp, y_samp)"
   ]
  },
  {
   "cell_type": "markdown",
   "metadata": {},
   "source": [
    "### 1. Oversampling\n",
    " #### - SMOTE METHOD"
   ]
  },
  {
   "cell_type": "code",
   "execution_count": 18,
   "metadata": {},
   "outputs": [
    {
     "name": "stdout",
     "output_type": "stream",
     "text": [
      "SMOTE 적용 전 트레인 피처/레이블 데이터 세트:  (1292, 46) (1292,)\n",
      "SMOTE 적용 전 테스트 피처/레이블 데이터 세트:  (554, 46) (554,)\n",
      "SMOTE 적용 전 레이블 값 분포: \n",
      " 0    1215\n",
      "1      77\n",
      "Name: 수술실패여부, dtype: int64\n",
      "--------------------------------------------------------------------------------\n",
      "SMOTE 적용 전 학습용 피처/레이블 데이터 세트:  (2430, 46) (2430,)\n",
      "SMOTE 적용 후 레이블 값 분포: \n",
      " 1    1215\n",
      "0    1215\n",
      "Name: 수술실패여부, dtype: int64\n"
     ]
    }
   ],
   "source": [
    "from imblearn.over_sampling import SMOTE\n",
    "sm_train_x,sm_train_y = SMOTE(random_state=1234).fit_resample(df_train_x,df_train_y)\n",
    "\n",
    "\n",
    "#적용전\n",
    "print('SMOTE 적용 전 트레인 피처/레이블 데이터 세트: ', df_train_x.shape, df_train_y.shape)\n",
    "print('SMOTE 적용 전 테스트 피처/레이블 데이터 세트: ', df_test_x.shape, df_test_y.shape)\n",
    "print('SMOTE 적용 전 레이블 값 분포: \\n', pd.Series(df_train_y).value_counts())\n",
    "print('-'*80)\n",
    "#적용후\n",
    "print('SMOTE 적용 전 학습용 피처/레이블 데이터 세트: ', sm_train_x.shape, sm_train_y.shape)\n",
    "#print('SMOTE 적용 후 학습용 피처/레이블 데이터 세트: ', sm_train_x.shape, sm_train_y.shape)\n",
    "print('SMOTE 적용 후 레이블 값 분포: \\n', pd.Series(sm_train_y).value_counts())"
   ]
  },
  {
   "cell_type": "code",
   "execution_count": 19,
   "metadata": {
    "collapsed": true
   },
   "outputs": [
    {
     "name": "stdout",
     "output_type": "stream",
     "text": [
      "\n",
      "LR\n",
      "[[301 215]\n",
      " [ 19  19]]\n",
      "정확도 : 0.5776\n",
      "정밀도 : 0.0812\n",
      "재현율 : 0.5000\n",
      "f1-score : 0.1397\n",
      "auc : 0.5417\n",
      "Train F1_SCORE :  0.6161776367961936\n",
      "\n",
      "DT\n",
      "[[198 318]\n",
      " [ 12  26]]\n",
      "정확도 : 0.4043\n",
      "정밀도 : 0.0756\n",
      "재현율 : 0.6842\n",
      "f1-score : 0.1361\n",
      "auc : 0.5340\n",
      "Train F1_SCORE :  0.713670969877524\n",
      "\n",
      "RF\n",
      "[[502  14]\n",
      " [ 38   0]]\n",
      "정확도 : 0.9061\n",
      "정밀도 : 0.0000\n",
      "재현율 : 0.0000\n",
      "f1-score : 0.0000\n",
      "auc : 0.4864\n",
      "Train F1_SCORE :  0.9983566146261299\n",
      "\n",
      "LGB\n",
      "[[514   2]\n",
      " [ 31   7]]\n",
      "정확도 : 0.9404\n",
      "정밀도 : 0.7778\n",
      "재현율 : 0.1842\n",
      "f1-score : 0.2979\n",
      "auc : 0.5902\n",
      "Train F1_SCORE :  1.0\n",
      "\n",
      "catboost\n",
      "0:\tlearn: 0.5002260\ttotal: 4.12ms\tremaining: 37.1ms\n",
      "1:\tlearn: 0.4162392\ttotal: 27.9ms\tremaining: 112ms\n",
      "2:\tlearn: 0.3686754\ttotal: 37.8ms\tremaining: 88.3ms\n",
      "3:\tlearn: 0.3233832\ttotal: 50.6ms\tremaining: 75.9ms\n",
      "4:\tlearn: 0.2794776\ttotal: 63.6ms\tremaining: 63.6ms\n",
      "5:\tlearn: 0.2610914\ttotal: 81.8ms\tremaining: 54.5ms\n",
      "6:\tlearn: 0.2242224\ttotal: 90.2ms\tremaining: 38.6ms\n",
      "7:\tlearn: 0.1996747\ttotal: 124ms\tremaining: 31ms\n",
      "8:\tlearn: 0.1726046\ttotal: 152ms\tremaining: 16.9ms\n",
      "9:\tlearn: 0.1520651\ttotal: 173ms\tremaining: 0us\n",
      "[[470  46]\n",
      " [ 33   5]]\n",
      "정확도 : 0.8574\n",
      "정밀도 : 0.0980\n",
      "재현율 : 0.1316\n",
      "f1-score : 0.1124\n",
      "auc : 0.5212\n",
      "Train F1_SCORE :  0.9640816326530612\n",
      "\n",
      "ada\n",
      "[[469  47]\n",
      " [ 25  13]]\n",
      "정확도 : 0.8700\n",
      "정밀도 : 0.2167\n",
      "재현율 : 0.3421\n",
      "f1-score : 0.2653\n",
      "auc : 0.6255\n",
      "Train F1_SCORE :  0.9291211016605915\n",
      "\n",
      "GB\n",
      "[[490  26]\n",
      " [ 32   6]]\n",
      "정확도 : 0.8953\n",
      "정밀도 : 0.1875\n",
      "재현율 : 0.1579\n",
      "f1-score : 0.1714\n",
      "auc : 0.5538\n",
      "Train F1_SCORE :  0.9844389844389844\n",
      "\n",
      "XGB\n",
      "[17:41:35] WARNING: ../src/learner.cc:1095: Starting in XGBoost 1.3.0, the default evaluation metric used with the objective 'binary:logistic' was changed from 'error' to 'logloss'. Explicitly set eval_metric if you'd like to restore the old behavior.\n",
      "[[511   5]\n",
      " [ 30   8]]\n",
      "정확도 : 0.9368\n",
      "정밀도 : 0.6154\n",
      "재현율 : 0.2105\n",
      "f1-score : 0.3137\n",
      "auc : 0.6004\n",
      "Train F1_SCORE :  1.0\n"
     ]
    }
   ],
   "source": [
    "train_score=[];test_score=[]\n",
    "\n",
    "print('\\nLR')\n",
    "from sklearn.linear_model import LogisticRegression\n",
    "lr = LogisticRegression()\n",
    "result_lr = modeling(lr, sm_train_x, df_test_x, sm_train_y, df_test_y)\n",
    "train_score.append(lr.score(sm_train_x,sm_train_y))\n",
    "test_score.append(lr.score(df_test_x,df_test_y))\n",
    "print(\"Train F1_SCORE : \", f1_score(sm_train_y, lr.predict(sm_train_x)))\n",
    "\n",
    "print('\\nDT')\n",
    "from sklearn.tree import DecisionTreeClassifier\n",
    "DT = DecisionTreeClassifier(max_depth=1, min_samples_split=10, min_samples_leaf=6, random_state=1234)\n",
    "result_dt = modeling(DT, sm_train_x, df_test_x, sm_train_y, df_test_y)\n",
    "train_score.append(DT.score(sm_train_x,sm_train_y))\n",
    "test_score.append(DT.score(df_test_x,df_test_y))\n",
    "print(\"Train F1_SCORE : \", f1_score(sm_train_y, DT.predict(sm_train_x)))\n",
    "\n",
    "print('\\nRF')\n",
    "from sklearn.ensemble import RandomForestClassifier\n",
    "RF = RandomForestClassifier(max_depth=15, n_estimators=70, random_state=1234)\n",
    "RF.fit(sm_train_x, sm_train_y)\n",
    "result_rf= modeling(RF,  sm_train_x, df_test_x, sm_train_y, df_test_y)\n",
    "train_score.append(RF.score(sm_train_x,sm_train_y))\n",
    "test_score.append(RF.score(df_test_x,df_test_y))\n",
    "print(\"Train F1_SCORE : \", f1_score(sm_train_y, RF.predict(sm_train_x)))\n",
    "\n",
    "print('\\nLGB')\n",
    "from lightgbm import LGBMClassifier\n",
    "lgb = LGBMClassifier(n_estimators=1000,num_leaves=64,n_jobs=-1,boost_from_average=False, random_state=1234)\n",
    "result_lgb = modeling(lgb, sm_train_x, df_test_x, sm_train_y, df_test_y)\n",
    "train_score.append(lgb.score(sm_train_x,sm_train_y))\n",
    "test_score.append(lgb.score(df_test_x,df_test_y))\n",
    "print(\"Train F1_SCORE : \", f1_score(sm_train_y, lgb.predict(sm_train_x)))\n",
    "\n",
    "print('\\ncatboost')\n",
    "from catboost import CatBoostClassifier\n",
    "cat = CatBoostClassifier(iterations=10, learning_rate=0.5,random_state=1234 )\n",
    "result_cat = modeling(cat, sm_train_x, df_test_x, sm_train_y, df_test_y)\n",
    "train_score.append(cat.score(sm_train_x,sm_train_y))\n",
    "test_score.append(cat.score(df_test_x,df_test_y))\n",
    "print(\"Train F1_SCORE : \", f1_score(sm_train_y, cat.predict(sm_train_x)))\n",
    "\n",
    "print('\\nada')\n",
    "from sklearn.ensemble import AdaBoostClassifier\n",
    "ada = AdaBoostClassifier(n_estimators=50,learning_rate=1, random_state=1234)\n",
    "result_ada = modeling(ada, sm_train_x, df_test_x, sm_train_y, df_test_y)\n",
    "train_score.append(ada.score(sm_train_x,sm_train_y))\n",
    "test_score.append(ada.score(df_test_x,df_test_y))\n",
    "print(\"Train F1_SCORE : \", f1_score(sm_train_y, ada.predict(sm_train_x)))\n",
    "\n",
    "print('\\nGB')\n",
    "from sklearn.ensemble import GradientBoostingClassifier\n",
    "gra = GradientBoostingClassifier(random_state = 1234)\n",
    "result_gra = modeling(gra, sm_train_x, df_test_x, sm_train_y, df_test_y)\n",
    "train_score.append(gra.score(sm_train_x,sm_train_y))\n",
    "test_score.append(gra.score(df_test_x,df_test_y))\n",
    "print(\"Train F1_SCORE : \", f1_score(sm_train_y, gra.predict(sm_train_x)))\n",
    "\n",
    "print('\\nXGB')\n",
    "from xgboost import XGBClassifier\n",
    "xgb = XGBClassifier(n_estimators=500, learning_rate =0.1, random_state = 1234)\n",
    "result_xgb = modeling(xgb, sm_train_x, df_test_x, sm_train_y, df_test_y)\n",
    "train_score.append(xgb.score(sm_train_x,sm_train_y))\n",
    "test_score.append(xgb.score(df_test_x,df_test_y))\n",
    "print(\"Train F1_SCORE : \", f1_score(sm_train_y, xgb.predict(sm_train_x)))"
   ]
  },
  {
   "cell_type": "markdown",
   "metadata": {},
   "source": [
    "\n",
    "### - 대안\n",
    " #### 1. Data OverSampling \n",
    " #### 2. threshold set\n",
    " \n",
    " \n",
    " #### 3. model hyper parmeter\n",
    " #### 4. cross validation\n",
    " #### 5. another model\n"
   ]
  },
  {
   "cell_type": "markdown",
   "metadata": {},
   "source": [
    "### 2. Threshold set\n",
    " - Threshold Funtion\n",
    " - get_eval_by_threshold : find Threshold "
   ]
  },
  {
   "cell_type": "code",
   "execution_count": 21,
   "metadata": {},
   "outputs": [],
   "source": [
    "from sklearn.preprocessing import Binarizer\n",
    "def get_clf_eval(y_test , pred):\n",
    "    confusion = confusion_matrix( y_test, pred)\n",
    "    precision = precision_score(y_test , pred)\n",
    "    recall = recall_score(y_test , pred)\n",
    "    print('오차 행렬')\n",
    "    print(confusion)\n",
    "    print(' 정밀도: {0:.4f}, 재현율: {1:.4f}'.format(precision ,recall))\n",
    "# 임계값 조정\n",
    "thresholds = [0.40, 0.45, 0.50, 0.55, 0.60]\n",
    "def get_eval_by_threshold(y_test , pred_proba_c1, thresholds):\n",
    "    # thresholds list객체내의 값을 차례로 iteration하면서 Evaluation 수행.\n",
    "    for custom_threshold in thresholds:\n",
    "        binarizer = Binarizer(threshold=custom_threshold).fit(pred_proba_c1) \n",
    "        custom_predict = binarizer.transform(pred_proba_c1)\n",
    "        print('임곗값:',custom_threshold)\n",
    "        metrics(y_test , custom_predict)\n",
    "        #get_clf_eval(y_test , custom_predict)\n",
    "        print('-'*20)\n"
   ]
  },
  {
   "cell_type": "code",
   "execution_count": 23,
   "metadata": {},
   "outputs": [
    {
     "name": "stdout",
     "output_type": "stream",
     "text": [
      "임곗값: 0.4\n",
      "[[485  31]\n",
      " [ 32   6]]\n",
      "정확도 : 0.8863\n",
      "정밀도 : 0.1622\n",
      "재현율 : 0.1579\n",
      "f1-score : 0.1600\n",
      "auc : 0.5489\n",
      "--------------------\n",
      "임곗값: 0.45\n",
      "[[499  17]\n",
      " [ 35   3]]\n",
      "정확도 : 0.9061\n",
      "정밀도 : 0.1500\n",
      "재현율 : 0.0789\n",
      "f1-score : 0.1034\n",
      "auc : 0.5230\n",
      "--------------------\n",
      "임곗값: 0.5\n",
      "[[502  14]\n",
      " [ 38   0]]\n",
      "정확도 : 0.9061\n",
      "정밀도 : 0.0000\n",
      "재현율 : 0.0000\n",
      "f1-score : 0.0000\n",
      "auc : 0.4864\n",
      "--------------------\n",
      "임곗값: 0.55\n",
      "[[508   8]\n",
      " [ 38   0]]\n",
      "정확도 : 0.9170\n",
      "정밀도 : 0.0000\n",
      "재현율 : 0.0000\n",
      "f1-score : 0.0000\n",
      "auc : 0.4922\n",
      "--------------------\n",
      "임곗값: 0.6\n",
      "[[512   4]\n",
      " [ 38   0]]\n",
      "정확도 : 0.9242\n",
      "정밀도 : 0.0000\n",
      "재현율 : 0.0000\n",
      "f1-score : 0.0000\n",
      "auc : 0.4961\n",
      "--------------------\n"
     ]
    }
   ],
   "source": [
    "### RandomForest\n",
    "pred_proba = RF.predict_proba(df_test_x)\n",
    "get_eval_by_threshold(df_test_y ,pred_proba[:,1].reshape(-1,1), thresholds)"
   ]
  },
  {
   "cell_type": "code",
   "execution_count": 24,
   "metadata": {},
   "outputs": [
    {
     "name": "stdout",
     "output_type": "stream",
     "text": [
      "[[514   2]\n",
      " [ 31   7]]\n",
      "정확도 : 0.9404\n",
      "정밀도 : 0.7778\n",
      "재현율 : 0.1842\n",
      "f1-score : 0.2979\n",
      "auc : 0.5902\n"
     ]
    }
   ],
   "source": [
    "lgb2 = LGBMClassifier(n_estimators=1000,num_leaves=64,n_jobs=-1,is_unbalance = True,boost_from_average=False)\n",
    "modeling(lgb2,sm_train_x, df_test_x, sm_train_y, df_test_y)"
   ]
  },
  {
   "cell_type": "code",
   "execution_count": 25,
   "metadata": {
    "scrolled": true
   },
   "outputs": [
    {
     "name": "stdout",
     "output_type": "stream",
     "text": [
      "임곗값: 0.4\n",
      "[[512   4]\n",
      " [ 31   7]]\n",
      "정확도 : 0.9368\n",
      "정밀도 : 0.6364\n",
      "재현율 : 0.1842\n",
      "f1-score : 0.2857\n",
      "auc : 0.5882\n",
      "--------------------\n",
      "임곗값: 0.45\n",
      "[[512   4]\n",
      " [ 31   7]]\n",
      "정확도 : 0.9368\n",
      "정밀도 : 0.6364\n",
      "재현율 : 0.1842\n",
      "f1-score : 0.2857\n",
      "auc : 0.5882\n",
      "--------------------\n",
      "임곗값: 0.5\n",
      "[[514   2]\n",
      " [ 31   7]]\n",
      "정확도 : 0.9404\n",
      "정밀도 : 0.7778\n",
      "재현율 : 0.1842\n",
      "f1-score : 0.2979\n",
      "auc : 0.5902\n",
      "--------------------\n",
      "임곗값: 0.55\n",
      "[[515   1]\n",
      " [ 31   7]]\n",
      "정확도 : 0.9422\n",
      "정밀도 : 0.8750\n",
      "재현율 : 0.1842\n",
      "f1-score : 0.3043\n",
      "auc : 0.5911\n",
      "--------------------\n",
      "임곗값: 0.6\n",
      "[[515   1]\n",
      " [ 32   6]]\n",
      "정확도 : 0.9404\n",
      "정밀도 : 0.8571\n",
      "재현율 : 0.1579\n",
      "f1-score : 0.2667\n",
      "auc : 0.5780\n",
      "--------------------\n"
     ]
    }
   ],
   "source": [
    "### lightGBM\n",
    "pred_proba2 = lgb2.predict_proba(df_test_x)\n",
    "get_eval_by_threshold(df_test_y ,pred_proba2[:,1].reshape(-1,1), thresholds)"
   ]
  },
  {
   "cell_type": "code",
   "execution_count": 26,
   "metadata": {},
   "outputs": [
    {
     "name": "stdout",
     "output_type": "stream",
     "text": [
      "임곗값: 0.4\n",
      "[[507   9]\n",
      " [ 28  10]]\n",
      "정확도 : 0.9332\n",
      "정밀도 : 0.5263\n",
      "재현율 : 0.2632\n",
      "f1-score : 0.3509\n",
      "auc : 0.6229\n",
      "--------------------\n",
      "임곗값: 0.45\n",
      "[[509   7]\n",
      " [ 29   9]]\n",
      "정확도 : 0.9350\n",
      "정밀도 : 0.5625\n",
      "재현율 : 0.2368\n",
      "f1-score : 0.3333\n",
      "auc : 0.6116\n",
      "--------------------\n",
      "임곗값: 0.5\n",
      "[[511   5]\n",
      " [ 30   8]]\n",
      "정확도 : 0.9368\n",
      "정밀도 : 0.6154\n",
      "재현율 : 0.2105\n",
      "f1-score : 0.3137\n",
      "auc : 0.6004\n",
      "--------------------\n",
      "임곗값: 0.55\n",
      "[[513   3]\n",
      " [ 30   8]]\n",
      "정확도 : 0.9404\n",
      "정밀도 : 0.7273\n",
      "재현율 : 0.2105\n",
      "f1-score : 0.3265\n",
      "auc : 0.6024\n",
      "--------------------\n",
      "임곗값: 0.6\n",
      "[[514   2]\n",
      " [ 31   7]]\n",
      "정확도 : 0.9404\n",
      "정밀도 : 0.7778\n",
      "재현율 : 0.1842\n",
      "f1-score : 0.2979\n",
      "auc : 0.5902\n",
      "--------------------\n",
      "임곗값: 0.4\n",
      "[[507   9]\n",
      " [ 28  10]]\n",
      "정확도 : 0.9332\n",
      "정밀도 : 0.5263\n",
      "재현율 : 0.2632\n",
      "f1-score : 0.3509\n",
      "auc : 0.6229\n",
      "--------------------\n",
      "임곗값: 0.45\n",
      "[[509   7]\n",
      " [ 29   9]]\n",
      "정확도 : 0.9350\n",
      "정밀도 : 0.5625\n",
      "재현율 : 0.2368\n",
      "f1-score : 0.3333\n",
      "auc : 0.6116\n",
      "--------------------\n",
      "임곗값: 0.5\n",
      "[[511   5]\n",
      " [ 30   8]]\n",
      "정확도 : 0.9368\n",
      "정밀도 : 0.6154\n",
      "재현율 : 0.2105\n",
      "f1-score : 0.3137\n",
      "auc : 0.6004\n",
      "--------------------\n",
      "임곗값: 0.55\n",
      "[[513   3]\n",
      " [ 30   8]]\n",
      "정확도 : 0.9404\n",
      "정밀도 : 0.7273\n",
      "재현율 : 0.2105\n",
      "f1-score : 0.3265\n",
      "auc : 0.6024\n",
      "--------------------\n",
      "임곗값: 0.6\n",
      "[[514   2]\n",
      " [ 31   7]]\n",
      "정확도 : 0.9404\n",
      "정밀도 : 0.7778\n",
      "재현율 : 0.1842\n",
      "f1-score : 0.2979\n",
      "auc : 0.5902\n",
      "--------------------\n"
     ]
    }
   ],
   "source": [
    "### xgb### xgb\n",
    "pred_proba = xgb.predict_proba(df_test_x)\n",
    "#print(pred_proba)\n",
    "get_eval_by_threshold(df_test_y ,pred_proba[:,1].reshape(-1,1), thresholds)\n",
    "pred_proba = xgb.predict_proba(df_test_x)\n",
    "#print(pred_proba)\n",
    "get_eval_by_threshold(df_test_y ,pred_proba[:,1].reshape(-1,1), thresholds)"
   ]
  },
  {
   "cell_type": "code",
   "execution_count": null,
   "metadata": {},
   "outputs": [],
   "source": []
  },
  {
   "cell_type": "markdown",
   "metadata": {},
   "source": [
    "cross validation은 xgboost는 파라미터로 설정할 수 있고\n",
    "나머지는 K-fold 교차 검증 "
   ]
  },
  {
   "cell_type": "markdown",
   "metadata": {},
   "source": [
    " ![nn](k-fold.png)"
   ]
  },
  {
   "cell_type": "code",
   "execution_count": null,
   "metadata": {},
   "outputs": [],
   "source": []
  },
  {
   "cell_type": "markdown",
   "metadata": {},
   "source": [
    "### 재발여부 모델도 위와 동일"
   ]
  },
  {
   "cell_type": "code",
   "execution_count": null,
   "metadata": {},
   "outputs": [],
   "source": []
  }
 ],
 "metadata": {
  "kernelspec": {
   "display_name": "Python 3",
   "language": "python",
   "name": "python3"
  },
  "language_info": {
   "codemirror_mode": {
    "name": "ipython",
    "version": 3
   },
   "file_extension": ".py",
   "mimetype": "text/x-python",
   "name": "python",
   "nbconvert_exporter": "python",
   "pygments_lexer": "ipython3",
   "version": "3.8.5"
  }
 },
 "nbformat": 4,
 "nbformat_minor": 4
}
